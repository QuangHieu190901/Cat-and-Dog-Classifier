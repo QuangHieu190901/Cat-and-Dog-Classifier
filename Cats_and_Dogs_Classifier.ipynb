{
  "nbformat": 4,
  "nbformat_minor": 0,
  "metadata": {
    "colab": {
      "provenance": []
    },
    "kernelspec": {
      "name": "python3",
      "display_name": "Python 3"
    },
    "language_info": {
      "name": "python"
    },
    "gpuClass": "standard",
    "accelerator": "GPU"
  },
  "cells": [
    {
      "cell_type": "code",
      "source": [
        "import os"
      ],
      "metadata": {
        "id": "QrYznFOSS_6T"
      },
      "execution_count": 1,
      "outputs": []
    },
    {
      "cell_type": "code",
      "execution_count": 2,
      "metadata": {
        "id": "GNkqZXGfKYwx"
      },
      "outputs": [],
      "source": [
        "from crawler import crawler"
      ]
    },
    {
      "cell_type": "code",
      "source": [
        "number_of_dog_pages = 151\n",
        "dog_url = 'https://www.freeimages.com/search/dog/'\n",
        "dog_download_path = 'data/dog/'"
      ],
      "metadata": {
        "id": "37p9h8xOK6qt"
      },
      "execution_count": 3,
      "outputs": []
    },
    {
      "cell_type": "code",
      "source": [
        "if not os.path.exists(dog_download_path):\n",
        "    os.makedirs(dog_download_path)"
      ],
      "metadata": {
        "id": "POo4tVwYTPZl"
      },
      "execution_count": 4,
      "outputs": []
    },
    {
      "cell_type": "code",
      "source": [
        "for i in range(1, number_of_dog_pages + 1):\n",
        "    crawler(dog_url, i, dog_download_path)"
      ],
      "metadata": {
        "id": "jvZRNfsuK6oR"
      },
      "execution_count": 5,
      "outputs": []
    },
    {
      "cell_type": "code",
      "source": [
        "number_of_cat_pages = 88\n",
        "cat_url = 'https://www.freeimages.com/search/cat/'\n",
        "cat_download_path = 'data/cat/'"
      ],
      "metadata": {
        "id": "S8kfeIpqK6l5"
      },
      "execution_count": 6,
      "outputs": []
    },
    {
      "cell_type": "code",
      "source": [
        "if not os.path.exists(cat_download_path):\n",
        "    os.makedirs(cat_download_path)"
      ],
      "metadata": {
        "id": "uY33fFXMTlgw"
      },
      "execution_count": 7,
      "outputs": []
    },
    {
      "cell_type": "code",
      "source": [
        "for i in range(1, number_of_cat_pages + 1):\n",
        "    crawler(cat_url, i, cat_download_path)"
      ],
      "metadata": {
        "id": "iFbennE_K6jf"
      },
      "execution_count": 8,
      "outputs": []
    },
    {
      "cell_type": "code",
      "source": [
        "data_path = '/content/data'"
      ],
      "metadata": {
        "id": "xGH5AdV0K6hJ"
      },
      "execution_count": 9,
      "outputs": []
    },
    {
      "cell_type": "code",
      "source": [
        "image_size = (224, 224)\n",
        "batch_size = 32"
      ],
      "metadata": {
        "id": "jGIDsBvnV-Wu"
      },
      "execution_count": 10,
      "outputs": []
    },
    {
      "cell_type": "code",
      "source": [
        "labels = [\"CAT\", \"DOG\"]"
      ],
      "metadata": {
        "id": "AvB9YOBaK6ex"
      },
      "execution_count": 11,
      "outputs": []
    },
    {
      "cell_type": "code",
      "source": [
        "import tensorflow as tf"
      ],
      "metadata": {
        "id": "pHAo-fSmKWVn"
      },
      "execution_count": 12,
      "outputs": []
    },
    {
      "cell_type": "code",
      "source": [
        "tf.__version__"
      ],
      "metadata": {
        "id": "swpcU5VJKWTh",
        "colab": {
          "base_uri": "https://localhost:8080/",
          "height": 36
        },
        "outputId": "fb670210-66eb-437b-893d-46910f62d313"
      },
      "execution_count": 13,
      "outputs": [
        {
          "output_type": "execute_result",
          "data": {
            "text/plain": [
              "'2.11.0'"
            ],
            "application/vnd.google.colaboratory.intrinsic+json": {
              "type": "string"
            }
          },
          "metadata": {},
          "execution_count": 13
        }
      ]
    },
    {
      "cell_type": "code",
      "source": [
        "dog_data_path = '/content/data/dog'\n",
        "cat_data_path = '/content/data/cat'"
      ],
      "metadata": {
        "id": "OgsXc5ATKWRT"
      },
      "execution_count": 14,
      "outputs": []
    },
    {
      "cell_type": "code",
      "source": [
        "from tensorflow.keras.utils import image_dataset_from_directory"
      ],
      "metadata": {
        "id": "hj9d7QKPTJo7"
      },
      "execution_count": 15,
      "outputs": []
    },
    {
      "cell_type": "code",
      "source": [
        "dataset = image_dataset_from_directory(data_path, batch_size= batch_size, image_size= image_size, shuffle= True)"
      ],
      "metadata": {
        "colab": {
          "base_uri": "https://localhost:8080/"
        },
        "id": "j6alS9AtTJmh",
        "outputId": "9adcb619-7ffc-4602-f5a2-acff1c1ee75b"
      },
      "execution_count": 16,
      "outputs": [
        {
          "output_type": "stream",
          "name": "stdout",
          "text": [
            "Found 7858 files belonging to 2 classes.\n"
          ]
        }
      ]
    },
    {
      "cell_type": "code",
      "source": [
        "len(dataset)"
      ],
      "metadata": {
        "colab": {
          "base_uri": "https://localhost:8080/"
        },
        "id": "IhyqeDuZTJkH",
        "outputId": "1d98d7c5-a9fa-4381-fe58-6dc911469e8f"
      },
      "execution_count": 17,
      "outputs": [
        {
          "output_type": "execute_result",
          "data": {
            "text/plain": [
              "246"
            ]
          },
          "metadata": {},
          "execution_count": 17
        }
      ]
    },
    {
      "cell_type": "code",
      "source": [
        "import math"
      ],
      "metadata": {
        "id": "QwSzHTiyTJhQ"
      },
      "execution_count": 18,
      "outputs": []
    },
    {
      "cell_type": "code",
      "source": [
        "train = dataset.take(math.ceil(len(dataset)*.75))\n",
        "test = dataset.skip(math.ceil(len(dataset)*.75)).take(math.floor(len(dataset)*.25))"
      ],
      "metadata": {
        "id": "GeJ04pGYTJZl"
      },
      "execution_count": 19,
      "outputs": []
    },
    {
      "cell_type": "code",
      "source": [
        "samples, labels = train.take(1).as_numpy_iterator().next()\n",
        "samples.shape"
      ],
      "metadata": {
        "colab": {
          "base_uri": "https://localhost:8080/"
        },
        "id": "qzMImm1lTJXI",
        "outputId": "17fa34c9-d541-4dd9-efe2-fbe16503fc2a"
      },
      "execution_count": 20,
      "outputs": [
        {
          "output_type": "execute_result",
          "data": {
            "text/plain": [
              "(32, 224, 224, 3)"
            ]
          },
          "metadata": {},
          "execution_count": 20
        }
      ]
    },
    {
      "cell_type": "code",
      "source": [
        "input_shape = samples.shape[1:]\n",
        "input_shape"
      ],
      "metadata": {
        "colab": {
          "base_uri": "https://localhost:8080/"
        },
        "id": "6ICPrPYzTJUj",
        "outputId": "d71dd66b-3400-4b4b-abf9-cf2d44be60f2"
      },
      "execution_count": 21,
      "outputs": [
        {
          "output_type": "execute_result",
          "data": {
            "text/plain": [
              "(224, 224, 3)"
            ]
          },
          "metadata": {},
          "execution_count": 21
        }
      ]
    },
    {
      "cell_type": "code",
      "source": [
        "from tensorflow.keras.models import Sequential\n",
        "from tensorflow.keras.layers import Input, Rescaling, Flatten, Dense\n",
        "from tensorflow.keras.optimizers import Adam"
      ],
      "metadata": {
        "id": "XnCddmBrTJSL"
      },
      "execution_count": 22,
      "outputs": []
    },
    {
      "cell_type": "code",
      "source": [
        "from tensorflow.keras.applications import VGG19\n",
        "from tensorflow.keras.applications.resnet import ResNet101"
      ],
      "metadata": {
        "id": "PzEoEO09TJPj"
      },
      "execution_count": 23,
      "outputs": []
    },
    {
      "cell_type": "code",
      "source": [
        "epochs = 50"
      ],
      "metadata": {
        "id": "dVntYlsfsI9P"
      },
      "execution_count": 24,
      "outputs": []
    },
    {
      "cell_type": "code",
      "source": [
        "opt = Adam(learning_rate= 2e-3)"
      ],
      "metadata": {
        "id": "6Ulhmr4ysI7B"
      },
      "execution_count": 25,
      "outputs": []
    },
    {
      "cell_type": "code",
      "source": [
        "vgg_based = VGG19(weights=\"imagenet\", include_top=False, input_shape=input_shape)"
      ],
      "metadata": {
        "id": "HlUojOxjKWxm",
        "colab": {
          "base_uri": "https://localhost:8080/"
        },
        "outputId": "ee75d65e-a7c0-4441-b397-e54cb12064a3"
      },
      "execution_count": 26,
      "outputs": [
        {
          "output_type": "stream",
          "name": "stdout",
          "text": [
            "Downloading data from https://storage.googleapis.com/tensorflow/keras-applications/vgg19/vgg19_weights_tf_dim_ordering_tf_kernels_notop.h5\n",
            "80134624/80134624 [==============================] - 3s 0us/step\n"
          ]
        }
      ]
    },
    {
      "cell_type": "code",
      "source": [
        "resnet_based = ResNet101(weights=\"imagenet\", include_top=False, input_shape=input_shape)"
      ],
      "metadata": {
        "id": "CxERQX9XKU4a",
        "colab": {
          "base_uri": "https://localhost:8080/"
        },
        "outputId": "5a4e7d29-a47f-46a6-b00d-478f0ab84b63"
      },
      "execution_count": 27,
      "outputs": [
        {
          "output_type": "stream",
          "name": "stdout",
          "text": [
            "Downloading data from https://storage.googleapis.com/tensorflow/keras-applications/resnet/resnet101_weights_tf_dim_ordering_tf_kernels_notop.h5\n",
            "171446536/171446536 [==============================] - 6s 0us/step\n"
          ]
        }
      ]
    },
    {
      "cell_type": "code",
      "source": [
        "model_vgg = Sequential()"
      ],
      "metadata": {
        "id": "eMMZzq58sY0T"
      },
      "execution_count": 28,
      "outputs": []
    },
    {
      "cell_type": "code",
      "source": [
        "model_vgg.add(Input(shape= input_shape))\n",
        "model_vgg.add(Rescaling(scale= 1./255))\n",
        "model_vgg.add(vgg_based)\n",
        "model_vgg.add(Flatten())\n",
        "model_vgg.add(Dense(units= 1, activation= 'sigmoid'))"
      ],
      "metadata": {
        "id": "lWNj1r4tsYxv"
      },
      "execution_count": 29,
      "outputs": []
    },
    {
      "cell_type": "code",
      "source": [
        "model_vgg.summary()"
      ],
      "metadata": {
        "id": "WQjYaqc8KQMg",
        "colab": {
          "base_uri": "https://localhost:8080/"
        },
        "outputId": "b35bac7b-b3af-490d-f344-efffc8bcbddb"
      },
      "execution_count": 30,
      "outputs": [
        {
          "output_type": "stream",
          "name": "stdout",
          "text": [
            "Model: \"sequential\"\n",
            "_________________________________________________________________\n",
            " Layer (type)                Output Shape              Param #   \n",
            "=================================================================\n",
            " rescaling (Rescaling)       (None, 224, 224, 3)       0         \n",
            "                                                                 \n",
            " vgg19 (Functional)          (None, 7, 7, 512)         20024384  \n",
            "                                                                 \n",
            " flatten (Flatten)           (None, 25088)             0         \n",
            "                                                                 \n",
            " dense (Dense)               (None, 1)                 25089     \n",
            "                                                                 \n",
            "=================================================================\n",
            "Total params: 20,049,473\n",
            "Trainable params: 20,049,473\n",
            "Non-trainable params: 0\n",
            "_________________________________________________________________\n"
          ]
        }
      ]
    },
    {
      "cell_type": "code",
      "source": [
        "model_vgg.compile(loss= 'binary_crossentropy', metrics= ['accuracy'], optimizer= opt)"
      ],
      "metadata": {
        "id": "hqchWmIRsIz5"
      },
      "execution_count": 31,
      "outputs": []
    },
    {
      "cell_type": "code",
      "source": [
        "model_vgg.fit(train, epochs= epochs)"
      ],
      "metadata": {
        "id": "DT-7kLj9KCV0",
        "colab": {
          "base_uri": "https://localhost:8080/"
        },
        "outputId": "fd0203be-f596-4dc8-d51e-fd1186041f0e"
      },
      "execution_count": 32,
      "outputs": [
        {
          "output_type": "stream",
          "name": "stdout",
          "text": [
            "Epoch 1/50\n",
            "185/185 [==============================] - 102s 446ms/step - loss: 16.8526 - accuracy: 0.5245\n",
            "Epoch 2/50\n",
            "185/185 [==============================] - 86s 465ms/step - loss: 0.6995 - accuracy: 0.5326\n",
            "Epoch 3/50\n",
            "185/185 [==============================] - 87s 470ms/step - loss: 0.6917 - accuracy: 0.5392\n",
            "Epoch 4/50\n",
            "185/185 [==============================] - 87s 469ms/step - loss: 0.6966 - accuracy: 0.5353\n",
            "Epoch 5/50\n",
            "185/185 [==============================] - 87s 467ms/step - loss: 0.6875 - accuracy: 0.5590\n",
            "Epoch 6/50\n",
            "185/185 [==============================] - 86s 466ms/step - loss: 0.6855 - accuracy: 0.5564\n",
            "Epoch 7/50\n",
            "185/185 [==============================] - 86s 466ms/step - loss: 0.6854 - accuracy: 0.5625\n",
            "Epoch 8/50\n",
            "185/185 [==============================] - 85s 459ms/step - loss: 32.0769 - accuracy: 0.5272\n",
            "Epoch 9/50\n",
            "185/185 [==============================] - 82s 444ms/step - loss: 0.6928 - accuracy: 0.5421\n",
            "Epoch 10/50\n",
            "185/185 [==============================] - 83s 445ms/step - loss: 0.6888 - accuracy: 0.5552\n",
            "Epoch 11/50\n",
            "185/185 [==============================] - 82s 443ms/step - loss: 0.6905 - accuracy: 0.5453\n",
            "Epoch 12/50\n",
            "185/185 [==============================] - 82s 444ms/step - loss: 0.6907 - accuracy: 0.5505\n",
            "Epoch 13/50\n",
            "185/185 [==============================] - 82s 444ms/step - loss: 0.6918 - accuracy: 0.5355\n",
            "Epoch 14/50\n",
            "185/185 [==============================] - 82s 442ms/step - loss: 0.6904 - accuracy: 0.5492\n",
            "Epoch 15/50\n",
            "185/185 [==============================] - 82s 442ms/step - loss: 0.6906 - accuracy: 0.5431\n",
            "Epoch 16/50\n",
            "185/185 [==============================] - 82s 442ms/step - loss: 0.6888 - accuracy: 0.5564\n",
            "Epoch 17/50\n",
            "185/185 [==============================] - 82s 442ms/step - loss: 0.6879 - accuracy: 0.5578\n",
            "Epoch 18/50\n",
            "185/185 [==============================] - 82s 442ms/step - loss: 0.6891 - accuracy: 0.5508\n",
            "Epoch 19/50\n",
            "185/185 [==============================] - 82s 442ms/step - loss: 0.6878 - accuracy: 0.5571\n",
            "Epoch 20/50\n",
            "185/185 [==============================] - 82s 443ms/step - loss: 0.6889 - accuracy: 0.5507\n",
            "Epoch 21/50\n",
            "185/185 [==============================] - 82s 442ms/step - loss: 0.6882 - accuracy: 0.5561\n",
            "Epoch 22/50\n",
            "185/185 [==============================] - 82s 443ms/step - loss: 0.6880 - accuracy: 0.5573\n",
            "Epoch 23/50\n",
            "185/185 [==============================] - 82s 442ms/step - loss: 0.6873 - accuracy: 0.5568\n",
            "Epoch 24/50\n",
            "185/185 [==============================] - 82s 442ms/step - loss: 0.6878 - accuracy: 0.5539\n",
            "Epoch 25/50\n",
            "185/185 [==============================] - 82s 441ms/step - loss: 0.6867 - accuracy: 0.5583\n",
            "Epoch 26/50\n",
            "185/185 [==============================] - 82s 443ms/step - loss: 0.6870 - accuracy: 0.5574\n",
            "Epoch 27/50\n",
            "185/185 [==============================] - 82s 443ms/step - loss: 0.6874 - accuracy: 0.5552\n",
            "Epoch 28/50\n",
            "185/185 [==============================] - 82s 443ms/step - loss: 0.6878 - accuracy: 0.5562\n",
            "Epoch 29/50\n",
            "185/185 [==============================] - 82s 442ms/step - loss: 0.6872 - accuracy: 0.5571\n",
            "Epoch 30/50\n",
            "185/185 [==============================] - 82s 441ms/step - loss: 0.6873 - accuracy: 0.5566\n",
            "Epoch 31/50\n",
            "185/185 [==============================] - 82s 440ms/step - loss: 0.6865 - accuracy: 0.5590\n",
            "Epoch 32/50\n",
            "185/185 [==============================] - 82s 440ms/step - loss: 0.6875 - accuracy: 0.5554\n",
            "Epoch 33/50\n",
            "185/185 [==============================] - 82s 441ms/step - loss: 0.6872 - accuracy: 0.5566\n",
            "Epoch 34/50\n",
            "185/185 [==============================] - 82s 441ms/step - loss: 0.6871 - accuracy: 0.5568\n",
            "Epoch 35/50\n",
            "185/185 [==============================] - 82s 441ms/step - loss: 0.6872 - accuracy: 0.5566\n",
            "Epoch 36/50\n",
            "185/185 [==============================] - 82s 441ms/step - loss: 0.6874 - accuracy: 0.5562\n",
            "Epoch 37/50\n",
            "185/185 [==============================] - 82s 441ms/step - loss: 0.6875 - accuracy: 0.5559\n",
            "Epoch 38/50\n",
            "185/185 [==============================] - 82s 441ms/step - loss: 0.6875 - accuracy: 0.5559\n",
            "Epoch 39/50\n",
            "185/185 [==============================] - 82s 441ms/step - loss: 0.6870 - accuracy: 0.5579\n",
            "Epoch 40/50\n",
            "185/185 [==============================] - 82s 441ms/step - loss: 0.6872 - accuracy: 0.5564\n",
            "Epoch 41/50\n",
            "185/185 [==============================] - 82s 440ms/step - loss: 0.6875 - accuracy: 0.5564\n",
            "Epoch 42/50\n",
            "185/185 [==============================] - 82s 441ms/step - loss: 0.6870 - accuracy: 0.5574\n",
            "Epoch 43/50\n",
            "185/185 [==============================] - 82s 441ms/step - loss: 0.6865 - accuracy: 0.5590\n",
            "Epoch 44/50\n",
            "185/185 [==============================] - 82s 440ms/step - loss: 0.6871 - accuracy: 0.5581\n",
            "Epoch 45/50\n",
            "185/185 [==============================] - 82s 441ms/step - loss: 0.6875 - accuracy: 0.5520\n",
            "Epoch 46/50\n",
            "185/185 [==============================] - 82s 440ms/step - loss: 0.6870 - accuracy: 0.5564\n",
            "Epoch 47/50\n",
            "185/185 [==============================] - 82s 440ms/step - loss: 0.6864 - accuracy: 0.5588\n",
            "Epoch 48/50\n",
            "185/185 [==============================] - 82s 440ms/step - loss: 0.6867 - accuracy: 0.5571\n",
            "Epoch 49/50\n",
            "185/185 [==============================] - 82s 442ms/step - loss: 0.6866 - accuracy: 0.5576\n",
            "Epoch 50/50\n",
            "185/185 [==============================] - 81s 436ms/step - loss: 0.6866 - accuracy: 0.5574\n"
          ]
        },
        {
          "output_type": "execute_result",
          "data": {
            "text/plain": [
              "<keras.callbacks.History at 0x7f27401e3040>"
            ]
          },
          "metadata": {},
          "execution_count": 32
        }
      ]
    },
    {
      "cell_type": "code",
      "source": [
        "model_vgg.evaluate(test)"
      ],
      "metadata": {
        "id": "FwzQRxPJTJNK",
        "colab": {
          "base_uri": "https://localhost:8080/"
        },
        "outputId": "ab80e30a-92af-42e5-f762-a69621aaa465"
      },
      "execution_count": 33,
      "outputs": [
        {
          "output_type": "stream",
          "name": "stdout",
          "text": [
            "61/61 [==============================] - 15s 171ms/step - loss: 0.6874 - accuracy: 0.5537\n"
          ]
        },
        {
          "output_type": "execute_result",
          "data": {
            "text/plain": [
              "[0.6874120235443115, 0.5536635518074036]"
            ]
          },
          "metadata": {},
          "execution_count": 33
        }
      ]
    },
    {
      "cell_type": "code",
      "source": [
        "model_resnet = Sequential()"
      ],
      "metadata": {
        "id": "cikXlfyyG-8H"
      },
      "execution_count": 34,
      "outputs": []
    },
    {
      "cell_type": "code",
      "source": [
        "model_resnet.add(Input(shape= input_shape))\n",
        "model_resnet.add(Rescaling(scale= 1./255))\n",
        "model_resnet.add(resnet_based)\n",
        "model_resnet.add(Flatten())\n",
        "model_resnet.add(Dense(units= 1, activation= 'sigmoid'))"
      ],
      "metadata": {
        "id": "IE3lc54rG-5U"
      },
      "execution_count": 35,
      "outputs": []
    },
    {
      "cell_type": "code",
      "source": [
        "model_resnet.summary()"
      ],
      "metadata": {
        "id": "n-tgsxBUG-27",
        "colab": {
          "base_uri": "https://localhost:8080/"
        },
        "outputId": "a560fcb7-5414-4a35-93ff-4378ea26dee0"
      },
      "execution_count": 36,
      "outputs": [
        {
          "output_type": "stream",
          "name": "stdout",
          "text": [
            "Model: \"sequential_1\"\n",
            "_________________________________________________________________\n",
            " Layer (type)                Output Shape              Param #   \n",
            "=================================================================\n",
            " rescaling_1 (Rescaling)     (None, 224, 224, 3)       0         \n",
            "                                                                 \n",
            " resnet101 (Functional)      (None, 7, 7, 2048)        42658176  \n",
            "                                                                 \n",
            " flatten_1 (Flatten)         (None, 100352)            0         \n",
            "                                                                 \n",
            " dense_1 (Dense)             (None, 1)                 100353    \n",
            "                                                                 \n",
            "=================================================================\n",
            "Total params: 42,758,529\n",
            "Trainable params: 42,653,185\n",
            "Non-trainable params: 105,344\n",
            "_________________________________________________________________\n"
          ]
        }
      ]
    },
    {
      "cell_type": "code",
      "source": [
        "model_resnet.compile(loss= 'binary_crossentropy', metrics= ['accuracy'], optimizer= 'adam')"
      ],
      "metadata": {
        "id": "OZmLkUZ9G-0k"
      },
      "execution_count": 39,
      "outputs": []
    },
    {
      "cell_type": "code",
      "source": [
        "model_resnet.fit(train, epochs= epochs)"
      ],
      "metadata": {
        "id": "ec8WMGF9G-x9",
        "colab": {
          "base_uri": "https://localhost:8080/"
        },
        "outputId": "1812b829-6133-4c05-d4c2-7f9acd86613b"
      },
      "execution_count": 40,
      "outputs": [
        {
          "output_type": "stream",
          "name": "stdout",
          "text": [
            "Epoch 1/50\n",
            "185/185 [==============================] - 166s 528ms/step - loss: 2.3377 - accuracy: 0.5353\n",
            "Epoch 2/50\n",
            "185/185 [==============================] - 101s 542ms/step - loss: 1.0882 - accuracy: 0.5387\n",
            "Epoch 3/50\n",
            "185/185 [==============================] - 100s 538ms/step - loss: 0.8117 - accuracy: 0.5524\n",
            "Epoch 4/50\n",
            "185/185 [==============================] - 100s 537ms/step - loss: 0.7677 - accuracy: 0.5529\n",
            "Epoch 5/50\n",
            "185/185 [==============================] - 99s 536ms/step - loss: 0.8171 - accuracy: 0.5498\n",
            "Epoch 6/50\n",
            "185/185 [==============================] - 100s 537ms/step - loss: 0.7569 - accuracy: 0.5579\n",
            "Epoch 7/50\n",
            "185/185 [==============================] - 100s 537ms/step - loss: 0.7390 - accuracy: 0.5703\n",
            "Epoch 8/50\n",
            "185/185 [==============================] - 102s 549ms/step - loss: 0.7030 - accuracy: 0.5986\n",
            "Epoch 9/50\n",
            "185/185 [==============================] - 102s 549ms/step - loss: 0.6960 - accuracy: 0.6157\n",
            "Epoch 10/50\n",
            "185/185 [==============================] - 101s 543ms/step - loss: 0.7027 - accuracy: 0.6466\n",
            "Epoch 11/50\n",
            "185/185 [==============================] - 100s 538ms/step - loss: 0.6249 - accuracy: 0.6777\n",
            "Epoch 12/50\n",
            "185/185 [==============================] - 100s 537ms/step - loss: 0.5748 - accuracy: 0.7052\n",
            "Epoch 13/50\n",
            "185/185 [==============================] - 99s 536ms/step - loss: 0.5625 - accuracy: 0.7221\n",
            "Epoch 14/50\n",
            "185/185 [==============================] - 99s 535ms/step - loss: 0.4976 - accuracy: 0.7611\n",
            "Epoch 15/50\n",
            "185/185 [==============================] - 99s 536ms/step - loss: 0.4524 - accuracy: 0.7929\n",
            "Epoch 16/50\n",
            "185/185 [==============================] - 99s 535ms/step - loss: 0.4116 - accuracy: 0.8145\n",
            "Epoch 17/50\n",
            "185/185 [==============================] - 102s 549ms/step - loss: 0.3489 - accuracy: 0.8459\n",
            "Epoch 18/50\n",
            "185/185 [==============================] - 103s 553ms/step - loss: 0.5862 - accuracy: 0.7172\n",
            "Epoch 19/50\n",
            "185/185 [==============================] - 103s 554ms/step - loss: 0.4514 - accuracy: 0.7883\n",
            "Epoch 20/50\n",
            "185/185 [==============================] - 102s 553ms/step - loss: 0.3642 - accuracy: 0.8382\n",
            "Epoch 21/50\n",
            "185/185 [==============================] - 103s 553ms/step - loss: 0.3017 - accuracy: 0.8698\n",
            "Epoch 22/50\n",
            "185/185 [==============================] - 101s 545ms/step - loss: 0.2435 - accuracy: 0.8959\n",
            "Epoch 23/50\n",
            "185/185 [==============================] - 100s 540ms/step - loss: 0.1978 - accuracy: 0.9291\n",
            "Epoch 24/50\n",
            "185/185 [==============================] - 103s 553ms/step - loss: 0.1658 - accuracy: 0.9409\n",
            "Epoch 25/50\n",
            "185/185 [==============================] - 101s 544ms/step - loss: 0.1617 - accuracy: 0.9380\n",
            "Epoch 26/50\n",
            "185/185 [==============================] - 100s 541ms/step - loss: 0.1553 - accuracy: 0.9431\n",
            "Epoch 27/50\n",
            "185/185 [==============================] - 100s 540ms/step - loss: 0.1649 - accuracy: 0.9416\n",
            "Epoch 28/50\n",
            "185/185 [==============================] - 100s 539ms/step - loss: 0.1303 - accuracy: 0.9541\n",
            "Epoch 29/50\n",
            "185/185 [==============================] - 102s 553ms/step - loss: 0.1076 - accuracy: 0.9645\n",
            "Epoch 30/50\n",
            "185/185 [==============================] - 101s 544ms/step - loss: 0.1115 - accuracy: 0.9625\n",
            "Epoch 31/50\n",
            "185/185 [==============================] - 100s 541ms/step - loss: 0.1115 - accuracy: 0.9598\n",
            "Epoch 32/50\n",
            "185/185 [==============================] - 102s 551ms/step - loss: 0.1091 - accuracy: 0.9623\n",
            "Epoch 33/50\n",
            "185/185 [==============================] - 101s 543ms/step - loss: 0.1103 - accuracy: 0.9613\n",
            "Epoch 34/50\n",
            "185/185 [==============================] - 100s 541ms/step - loss: 0.1002 - accuracy: 0.9654\n",
            "Epoch 35/50\n",
            "185/185 [==============================] - 100s 539ms/step - loss: 0.0918 - accuracy: 0.9684\n",
            "Epoch 36/50\n",
            "185/185 [==============================] - 100s 538ms/step - loss: 0.0977 - accuracy: 0.9689\n",
            "Epoch 37/50\n",
            "185/185 [==============================] - 100s 538ms/step - loss: 0.0944 - accuracy: 0.9677\n",
            "Epoch 38/50\n",
            "185/185 [==============================] - 103s 554ms/step - loss: 0.0948 - accuracy: 0.9667\n",
            "Epoch 39/50\n",
            "185/185 [==============================] - 103s 555ms/step - loss: 0.0996 - accuracy: 0.9654\n",
            "Epoch 40/50\n",
            "185/185 [==============================] - 103s 554ms/step - loss: 0.1037 - accuracy: 0.9617\n",
            "Epoch 41/50\n",
            "185/185 [==============================] - 101s 547ms/step - loss: 0.1233 - accuracy: 0.9554\n",
            "Epoch 42/50\n",
            "185/185 [==============================] - 101s 542ms/step - loss: 0.1243 - accuracy: 0.9579\n",
            "Epoch 43/50\n",
            "185/185 [==============================] - 103s 555ms/step - loss: 0.1128 - accuracy: 0.9613\n",
            "Epoch 44/50\n",
            "185/185 [==============================] - 101s 542ms/step - loss: 0.0821 - accuracy: 0.9720\n",
            "Epoch 45/50\n",
            "185/185 [==============================] - 100s 539ms/step - loss: 0.0828 - accuracy: 0.9721\n",
            "Epoch 46/50\n",
            "185/185 [==============================] - 103s 553ms/step - loss: 0.0803 - accuracy: 0.9711\n",
            "Epoch 47/50\n",
            "185/185 [==============================] - 101s 543ms/step - loss: 0.0721 - accuracy: 0.9742\n",
            "Epoch 48/50\n",
            "185/185 [==============================] - 100s 540ms/step - loss: 0.0701 - accuracy: 0.9772\n",
            "Epoch 49/50\n",
            "185/185 [==============================] - 100s 539ms/step - loss: 0.0646 - accuracy: 0.9769\n",
            "Epoch 50/50\n",
            "185/185 [==============================] - 100s 538ms/step - loss: 0.0655 - accuracy: 0.9770\n"
          ]
        },
        {
          "output_type": "execute_result",
          "data": {
            "text/plain": [
              "<keras.callbacks.History at 0x7f275ca48220>"
            ]
          },
          "metadata": {},
          "execution_count": 40
        }
      ]
    },
    {
      "cell_type": "code",
      "source": [
        "model_resnet.evaluate(test)"
      ],
      "metadata": {
        "id": "cbN8uyd2G-v0",
        "colab": {
          "base_uri": "https://localhost:8080/"
        },
        "outputId": "d47fcec5-b084-4884-e539-38009fca635d"
      },
      "execution_count": 41,
      "outputs": [
        {
          "output_type": "stream",
          "name": "stdout",
          "text": [
            "61/61 [==============================] - 16s 174ms/step - loss: 1.8643 - accuracy: 0.6362\n"
          ]
        },
        {
          "output_type": "execute_result",
          "data": {
            "text/plain": [
              "[1.864321231842041, 0.6362228989601135]"
            ]
          },
          "metadata": {},
          "execution_count": 41
        }
      ]
    },
    {
      "cell_type": "code",
      "source": [],
      "metadata": {
        "id": "oabv7rUYG-td"
      },
      "execution_count": 41,
      "outputs": []
    },
    {
      "cell_type": "code",
      "source": [],
      "metadata": {
        "id": "aUsqZmoBG-q-"
      },
      "execution_count": 41,
      "outputs": []
    },
    {
      "cell_type": "code",
      "source": [],
      "metadata": {
        "id": "qn3Rv8VKG-oh"
      },
      "execution_count": 41,
      "outputs": []
    },
    {
      "cell_type": "code",
      "source": [],
      "metadata": {
        "id": "cPoPxIQQG-mM"
      },
      "execution_count": 41,
      "outputs": []
    }
  ]
}